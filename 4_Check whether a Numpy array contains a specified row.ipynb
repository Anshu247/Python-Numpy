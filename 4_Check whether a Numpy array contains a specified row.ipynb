{
 "cells": [
  {
   "cell_type": "code",
   "execution_count": 1,
   "id": "2af1161a",
   "metadata": {},
   "outputs": [],
   "source": [
    "# Check whether a Numpy array contains a specified row\n",
    "import numpy as np"
   ]
  },
  {
   "cell_type": "code",
   "execution_count": 2,
   "id": "b4b866f4",
   "metadata": {},
   "outputs": [],
   "source": [
    "arr = np.array([[1,2,3,4,5],\n",
    "               [6,7,8,9,1],\n",
    "               [11,12,13,14,15],\n",
    "               [16,17,18,19,20]])"
   ]
  },
  {
   "cell_type": "code",
   "execution_count": 3,
   "id": "560805f0",
   "metadata": {},
   "outputs": [
    {
     "name": "stdout",
     "output_type": "stream",
     "text": [
      "[[ 1  2  3  4  5]\n",
      " [ 6  7  8  9  1]\n",
      " [11 12 13 14 15]\n",
      " [16 17 18 19 20]]\n"
     ]
    }
   ],
   "source": [
    "print(arr)"
   ]
  },
  {
   "cell_type": "code",
   "execution_count": 4,
   "id": "97e05d30",
   "metadata": {},
   "outputs": [
    {
     "name": "stdout",
     "output_type": "stream",
     "text": [
      "True\n",
      "False\n",
      "False\n",
      "True\n"
     ]
    }
   ],
   "source": [
    "print([1, 2, 3, 4, 5] in arr.tolist())\n",
    "print([6,7,-8,9,1] in arr.tolist())\n",
    "print([11,77,13,14,15] in arr.tolist())\n",
    "print([16,17,18,19,20] in arr.tolist())"
   ]
  },
  {
   "cell_type": "code",
   "execution_count": null,
   "id": "af0db763",
   "metadata": {},
   "outputs": [],
   "source": []
  }
 ],
 "metadata": {
  "kernelspec": {
   "display_name": "Python 3 (ipykernel)",
   "language": "python",
   "name": "python3"
  },
  "language_info": {
   "codemirror_mode": {
    "name": "ipython",
    "version": 3
   },
   "file_extension": ".py",
   "mimetype": "text/x-python",
   "name": "python",
   "nbconvert_exporter": "python",
   "pygments_lexer": "ipython3",
   "version": "3.10.9"
  }
 },
 "nbformat": 4,
 "nbformat_minor": 5
}
