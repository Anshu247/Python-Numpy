{
 "cells": [
  {
   "cell_type": "code",
   "execution_count": 1,
   "id": "2326ab8a",
   "metadata": {},
   "outputs": [
    {
     "name": "stdout",
     "output_type": "stream",
     "text": [
      "Empty array\n",
      "[[1663052921 1635020399 1852403305]\n",
      " [1616912487 1952539743  543187041]\n",
      " [ 543452769 1834967136 1617654625]]\n",
      "Full array\n",
      "[[77 77 77]\n",
      " [77 77 77]\n",
      " [77 77 77]]\n"
     ]
    }
   ],
   "source": [
    "# How to create a empty and full numpy array\n",
    "import numpy as np\n",
    "\n",
    "arr1 = np.empty([3,3], dtype=int)\n",
    "print(\"Empty array\")\n",
    "print(arr1)\n",
    "\n",
    "arr2 = np.full([3,3],77,dtype=int)\n",
    "print(\"Full array\")\n",
    "print(arr2)"
   ]
  },
  {
   "cell_type": "code",
   "execution_count": 2,
   "id": "3780d4af",
   "metadata": {},
   "outputs": [
    {
     "data": {
      "text/plain": [
       "array([1663052921, 1635020399, 1852403305, 1616912487, 1952539743,\n",
       "        543187041,  543452769, 1834967136, 1617654625])"
      ]
     },
     "execution_count": 2,
     "metadata": {},
     "output_type": "execute_result"
    }
   ],
   "source": [
    "arr1.ravel()"
   ]
  },
  {
   "cell_type": "code",
   "execution_count": 3,
   "id": "7e8fc3b7",
   "metadata": {},
   "outputs": [
    {
     "data": {
      "text/plain": [
       "array([77, 77, 77, 77, 77, 77, 77, 77, 77])"
      ]
     },
     "execution_count": 3,
     "metadata": {},
     "output_type": "execute_result"
    }
   ],
   "source": [
    "arr2.ravel()"
   ]
  },
  {
   "cell_type": "code",
   "execution_count": null,
   "id": "4a6af349",
   "metadata": {},
   "outputs": [],
   "source": []
  }
 ],
 "metadata": {
  "kernelspec": {
   "display_name": "Python 3 (ipykernel)",
   "language": "python",
   "name": "python3"
  },
  "language_info": {
   "codemirror_mode": {
    "name": "ipython",
    "version": 3
   },
   "file_extension": ".py",
   "mimetype": "text/x-python",
   "name": "python",
   "nbconvert_exporter": "python",
   "pygments_lexer": "ipython3",
   "version": "3.10.9"
  }
 },
 "nbformat": 4,
 "nbformat_minor": 5
}
