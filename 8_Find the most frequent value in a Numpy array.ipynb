{
 "cells": [
  {
   "cell_type": "code",
   "execution_count": 1,
   "id": "dc15f85c",
   "metadata": {},
   "outputs": [],
   "source": [
    "import numpy as np"
   ]
  },
  {
   "cell_type": "code",
   "execution_count": 2,
   "id": "4d3ef2bc",
   "metadata": {},
   "outputs": [],
   "source": [
    "#This code will generate a single output only, it will not work fine if the array contains more than one element having the maximum number of frequency\n",
    "\n",
    "arr = np.array([1,2,3,4,5,1,2,1,1,1])"
   ]
  },
  {
   "cell_type": "code",
   "execution_count": 3,
   "id": "fea6466d",
   "metadata": {},
   "outputs": [
    {
     "name": "stdout",
     "output_type": "stream",
     "text": [
      "Original array\n",
      "[1 2 3 4 5 1 2 1 1 1]\n"
     ]
    }
   ],
   "source": [
    "print(\"Original array\")\n",
    "print(arr)"
   ]
  },
  {
   "cell_type": "code",
   "execution_count": 4,
   "id": "560c4fb2",
   "metadata": {},
   "outputs": [
    {
     "name": "stdout",
     "output_type": "stream",
     "text": [
      "Most frequent value in the array\n",
      "1\n",
      "5\n",
      "[0 5 2 1 1 1]\n"
     ]
    }
   ],
   "source": [
    "print(\"Most frequent value in the array\")\n",
    "print(np.bincount(arr).argmax())\n",
    "print(np.bincount(arr).max())\n",
    "print(np.bincount(arr)) # bicounts function counts the number of unique values in an array"
   ]
  },
  {
   "cell_type": "code",
   "execution_count": 5,
   "id": "a6429e11",
   "metadata": {},
   "outputs": [],
   "source": [
    "# If the array contains more than one element having the maximum number of frequency\n",
    "\n",
    "arr2 = np.array([1,1,1,2,3,4,2,4,3,3])"
   ]
  },
  {
   "cell_type": "code",
   "execution_count": 6,
   "id": "8983ed75",
   "metadata": {},
   "outputs": [
    {
     "name": "stdout",
     "output_type": "stream",
     "text": [
      "Original array\n",
      "[1 1 1 2 3 4 2 4 3 3]\n"
     ]
    }
   ],
   "source": [
    "print(\"Original array\")\n",
    "print(arr2)"
   ]
  },
  {
   "cell_type": "code",
   "execution_count": 7,
   "id": "13cd367f",
   "metadata": {},
   "outputs": [
    {
     "name": "stdout",
     "output_type": "stream",
     "text": [
      "Most frequent value in the array\n",
      "1 3 "
     ]
    }
   ],
   "source": [
    "print(\"Most frequent value in the array\")\n",
    "x = np.bincount(arr2)\n",
    "maximum = max(x)\n",
    "\n",
    "for i in range(len(x)):\n",
    "    if x[i] == maximum:\n",
    "        print(i, end = \" \")"
   ]
  },
  {
   "cell_type": "code",
   "execution_count": null,
   "id": "5abfe134",
   "metadata": {},
   "outputs": [],
   "source": []
  }
 ],
 "metadata": {
  "kernelspec": {
   "display_name": "Python 3 (ipykernel)",
   "language": "python",
   "name": "python3"
  },
  "language_info": {
   "codemirror_mode": {
    "name": "ipython",
    "version": 3
   },
   "file_extension": ".py",
   "mimetype": "text/x-python",
   "name": "python",
   "nbconvert_exporter": "python",
   "pygments_lexer": "ipython3",
   "version": "3.10.9"
  }
 },
 "nbformat": 4,
 "nbformat_minor": 5
}
