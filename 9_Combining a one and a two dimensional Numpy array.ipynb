{
 "cells": [
  {
   "cell_type": "code",
   "execution_count": 1,
   "id": "05142a51",
   "metadata": {},
   "outputs": [],
   "source": [
    "import numpy as np"
   ]
  },
  {
   "cell_type": "code",
   "execution_count": 2,
   "id": "00ae6549",
   "metadata": {},
   "outputs": [
    {
     "name": "stdout",
     "output_type": "stream",
     "text": [
      "One Dimensional Array\n",
      "[0 1 2 3 4]\n"
     ]
    }
   ],
   "source": [
    "arr1 = np.arange(5)\n",
    "print(\"One Dimensional Array\")\n",
    "print(arr1)"
   ]
  },
  {
   "cell_type": "code",
   "execution_count": 3,
   "id": "1fce1d1d",
   "metadata": {},
   "outputs": [
    {
     "name": "stdout",
     "output_type": "stream",
     "text": [
      "Two Dimensional Array\n",
      "[[0 1 2 3 4]\n",
      " [5 6 7 8 9]]\n"
     ]
    }
   ],
   "source": [
    "arr2 = np.arange(10).reshape(2,5)\n",
    "print(\"Two Dimensional Array\")\n",
    "print(arr2)"
   ]
  },
  {
   "cell_type": "code",
   "execution_count": 4,
   "id": "d417f8f4",
   "metadata": {},
   "outputs": [
    {
     "name": "stdout",
     "output_type": "stream",
     "text": [
      "0:0\n",
      "1:1\n",
      "2:2\n",
      "3:3\n",
      "4:4\n",
      "0:5\n",
      "1:6\n",
      "2:7\n",
      "3:8\n",
      "4:9\n"
     ]
    }
   ],
   "source": [
    "for a, b in np.nditer([arr1, arr2]):\n",
    "    print(\"%d:%d\" % (a,b))"
   ]
  },
  {
   "cell_type": "code",
   "execution_count": null,
   "id": "f09d7e0a",
   "metadata": {},
   "outputs": [],
   "source": []
  }
 ],
 "metadata": {
  "kernelspec": {
   "display_name": "Python 3 (ipykernel)",
   "language": "python",
   "name": "python3"
  },
  "language_info": {
   "codemirror_mode": {
    "name": "ipython",
    "version": 3
   },
   "file_extension": ".py",
   "mimetype": "text/x-python",
   "name": "python",
   "nbconvert_exporter": "python",
   "pygments_lexer": "ipython3",
   "version": "3.10.9"
  }
 },
 "nbformat": 4,
 "nbformat_minor": 5
}
