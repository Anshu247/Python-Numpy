{
 "cells": [
  {
   "cell_type": "code",
   "execution_count": 1,
   "id": "d9d0fbfc",
   "metadata": {},
   "outputs": [],
   "source": [
    "# Find the number of occurences of a sequence in a NumPy array\n",
    "import numpy as np"
   ]
  },
  {
   "cell_type": "code",
   "execution_count": 2,
   "id": "fd9746d6",
   "metadata": {},
   "outputs": [],
   "source": [
    "arr = np.array([[2,8,9,4],\n",
    "               [9,4,9,4],\n",
    "               [4,5,9,7],\n",
    "               [2,9,4,3]])"
   ]
  },
  {
   "cell_type": "code",
   "execution_count": 3,
   "id": "fe39689c",
   "metadata": {},
   "outputs": [],
   "source": [
    "output = repr(arr).count(\"5\")"
   ]
  },
  {
   "cell_type": "code",
   "execution_count": 4,
   "id": "9e3d51ea",
   "metadata": {},
   "outputs": [
    {
     "name": "stdout",
     "output_type": "stream",
     "text": [
      "1\n"
     ]
    }
   ],
   "source": [
    "print(output)"
   ]
  },
  {
   "cell_type": "code",
   "execution_count": 5,
   "id": "7c73cc28",
   "metadata": {},
   "outputs": [],
   "source": [
    "output = repr(arr).count(\"4\")"
   ]
  },
  {
   "cell_type": "code",
   "execution_count": 6,
   "id": "afede10e",
   "metadata": {},
   "outputs": [
    {
     "name": "stdout",
     "output_type": "stream",
     "text": [
      "5\n"
     ]
    }
   ],
   "source": [
    "print(output)"
   ]
  },
  {
   "cell_type": "code",
   "execution_count": 7,
   "id": "6beb8d71",
   "metadata": {},
   "outputs": [],
   "source": [
    "output = repr(arr).count(\"9, 4\")"
   ]
  },
  {
   "cell_type": "code",
   "execution_count": 8,
   "id": "a9fffb3d",
   "metadata": {},
   "outputs": [
    {
     "name": "stdout",
     "output_type": "stream",
     "text": [
      "4\n"
     ]
    }
   ],
   "source": [
    "print(output)"
   ]
  },
  {
   "cell_type": "code",
   "execution_count": 9,
   "id": "33bfbeb9",
   "metadata": {},
   "outputs": [],
   "source": [
    "output = repr(arr).count(\"4, 9\")"
   ]
  },
  {
   "cell_type": "code",
   "execution_count": 10,
   "id": "94f8b1f9",
   "metadata": {},
   "outputs": [
    {
     "name": "stdout",
     "output_type": "stream",
     "text": [
      "1\n"
     ]
    }
   ],
   "source": [
    "print(output)"
   ]
  }
 ],
 "metadata": {
  "kernelspec": {
   "display_name": "Python 3 (ipykernel)",
   "language": "python",
   "name": "python3"
  },
  "language_info": {
   "codemirror_mode": {
    "name": "ipython",
    "version": 3
   },
   "file_extension": ".py",
   "mimetype": "text/x-python",
   "name": "python",
   "nbconvert_exporter": "python",
   "pygments_lexer": "ipython3",
   "version": "3.10.9"
  }
 },
 "nbformat": 4,
 "nbformat_minor": 5
}
