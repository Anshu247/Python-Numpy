{
 "cells": [
  {
   "cell_type": "code",
   "execution_count": 1,
   "id": "a107c8bc",
   "metadata": {},
   "outputs": [],
   "source": [
    "# Remove single dimensional entries from the shape of an array\n",
    "import numpy as np"
   ]
  },
  {
   "cell_type": "code",
   "execution_count": 2,
   "id": "8b4baaed",
   "metadata": {},
   "outputs": [],
   "source": [
    "arr1 = np.array([[[2,2,2],[2,2,2]]])"
   ]
  },
  {
   "cell_type": "code",
   "execution_count": 3,
   "id": "ce2d173a",
   "metadata": {},
   "outputs": [
    {
     "name": "stdout",
     "output_type": "stream",
     "text": [
      "Input array:-  [[[2 2 2]\n",
      "  [2 2 2]]]\n"
     ]
    }
   ],
   "source": [
    "print(\"Input array:- \", arr1)"
   ]
  },
  {
   "cell_type": "code",
   "execution_count": 4,
   "id": "10494ed9",
   "metadata": {},
   "outputs": [
    {
     "name": "stdout",
     "output_type": "stream",
     "text": [
      "Shape of input array:-  (1, 2, 3)\n"
     ]
    }
   ],
   "source": [
    "print(\"Shape of input array:- \", arr1.shape)"
   ]
  },
  {
   "cell_type": "code",
   "execution_count": 5,
   "id": "33fa9139",
   "metadata": {},
   "outputs": [],
   "source": [
    "out_arr1 = np.squeeze(arr1)"
   ]
  },
  {
   "cell_type": "code",
   "execution_count": 6,
   "id": "67451e0e",
   "metadata": {},
   "outputs": [
    {
     "name": "stdout",
     "output_type": "stream",
     "text": [
      "Output squeezed array:-  [[2 2 2]\n",
      " [2 2 2]]\n"
     ]
    }
   ],
   "source": [
    "print(\"Output squeezed array:- \", out_arr1)"
   ]
  },
  {
   "cell_type": "code",
   "execution_count": 7,
   "id": "89d5aa61",
   "metadata": {},
   "outputs": [
    {
     "name": "stdout",
     "output_type": "stream",
     "text": [
      "Shape of squeezed array:-  (2, 3)\n"
     ]
    }
   ],
   "source": [
    "print(\"Shape of squeezed array:- \", out_arr1.shape)"
   ]
  },
  {
   "cell_type": "code",
   "execution_count": 8,
   "id": "20e042d3",
   "metadata": {},
   "outputs": [],
   "source": [
    "arr2 = np.arange(9).reshape(1,3,3)"
   ]
  },
  {
   "cell_type": "code",
   "execution_count": 9,
   "id": "e7c2ede9",
   "metadata": {},
   "outputs": [
    {
     "name": "stdout",
     "output_type": "stream",
     "text": [
      "Input array:-  [[[0 1 2]\n",
      "  [3 4 5]\n",
      "  [6 7 8]]]\n"
     ]
    }
   ],
   "source": [
    "print(\"Input array:- \", arr2)"
   ]
  },
  {
   "cell_type": "code",
   "execution_count": 10,
   "id": "478f8454",
   "metadata": {},
   "outputs": [],
   "source": [
    "out_arr2 = np.squeeze(arr2, axis = 0)"
   ]
  },
  {
   "cell_type": "code",
   "execution_count": 11,
   "id": "2a3ab7cf",
   "metadata": {},
   "outputs": [
    {
     "name": "stdout",
     "output_type": "stream",
     "text": [
      "Output array is:-  [[0 1 2]\n",
      " [3 4 5]\n",
      " [6 7 8]]\n"
     ]
    }
   ],
   "source": [
    "print(\"Output array is:- \", out_arr2)"
   ]
  },
  {
   "cell_type": "code",
   "execution_count": 12,
   "id": "3a58e6fa",
   "metadata": {},
   "outputs": [
    {
     "name": "stdout",
     "output_type": "stream",
     "text": [
      "Shape of Input and Output array\n",
      "(1, 3, 3) (3, 3)\n"
     ]
    }
   ],
   "source": [
    "print(\"Shape of Input and Output array\")\n",
    "print(arr2.shape, out_arr2.shape)"
   ]
  },
  {
   "cell_type": "code",
   "execution_count": null,
   "id": "11aab32e",
   "metadata": {},
   "outputs": [],
   "source": [
    " "
   ]
  }
 ],
 "metadata": {
  "kernelspec": {
   "display_name": "Python 3 (ipykernel)",
   "language": "python",
   "name": "python3"
  },
  "language_info": {
   "codemirror_mode": {
    "name": "ipython",
    "version": 3
   },
   "file_extension": ".py",
   "mimetype": "text/x-python",
   "name": "python",
   "nbconvert_exporter": "python",
   "pygments_lexer": "ipython3",
   "version": "3.10.9"
  }
 },
 "nbformat": 4,
 "nbformat_minor": 5
}
